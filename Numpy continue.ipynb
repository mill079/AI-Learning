{
 "cells": [
  {
   "cell_type": "code",
   "execution_count": 21,
   "id": "2030b3f2-3170-4c40-94d4-1aefd14c8afd",
   "metadata": {},
   "outputs": [
    {
     "name": "stdout",
     "output_type": "stream",
     "text": [
      "[[19 22]\n",
      " [43 50]]\n",
      "219\n",
      "[[ 30  24  18]\n",
      " [ 84  69  54]\n",
      " [138 114  90]]\n",
      "[[19 22]\n",
      " [43 50]]\n",
      "[[23 34]\n",
      " [31 46]]\n",
      "[[-10  20 -10]\n",
      " [-10  20 -10]\n",
      " [-10  20 -10]]\n",
      "[-4 -4]\n"
     ]
    }
   ],
   "source": [
    "import numpy as np\n",
    "x= np.array([[1,2],[3,4]])\n",
    "y= np.array([[5,6],[7,8]])\n",
    "\n",
    "v= np.array([9,10])\n",
    "w= np.array([11,12])\n",
    "\n",
    "m= np.array([[1,2,3],[4,5,6],[7,8,9]])\n",
    "n= np.array([[9,8,7],[6,5,4],[3,2,1]])\n",
    "\n",
    "print(x.dot(y))\n",
    "print(np.dot(v,w))\n",
    "print(np.dot(m,n))\n",
    "print(x@y)\n",
    "print(y@x)\n",
    "print(np.cross(m,n))\n",
    "print(np.cross(x,y))"
   ]
  },
  {
   "cell_type": "code",
   "execution_count": 37,
   "id": "b8efb89b-9708-407f-9f19-f547a977151e",
   "metadata": {},
   "outputs": [
    {
     "ename": "NameError",
     "evalue": "name 'possible_class_indexs' is not defined",
     "output_type": "error",
     "traceback": [
      "\u001b[1;31m---------------------------------------------------------------------------\u001b[0m",
      "\u001b[1;31mNameError\u001b[0m                                 Traceback (most recent call last)",
      "Cell \u001b[1;32mIn[37], line 9\u001b[0m\n\u001b[0;32m      6\u001b[0m to_predict_class\u001b[38;5;241m=\u001b[39m [\u001b[38;5;124m\"\u001b[39m\u001b[38;5;124mapple\u001b[39m\u001b[38;5;124m\"\u001b[39m, \u001b[38;5;124m\"\u001b[39m\u001b[38;5;124mbanana\u001b[39m\u001b[38;5;124m\"\u001b[39m, \u001b[38;5;124m\"\u001b[39m\u001b[38;5;124mball\u001b[39m\u001b[38;5;124m\"\u001b[39m, \u001b[38;5;124m\"\u001b[39m\u001b[38;5;124mmango\u001b[39m\u001b[38;5;124m\"\u001b[39m, \u001b[38;5;124m\"\u001b[39m\u001b[38;5;124morange\u001b[39m\u001b[38;5;124m\"\u001b[39m]\n\u001b[0;32m      7\u001b[0m possible_class_index \u001b[38;5;241m=\u001b[39m np\u001b[38;5;241m.\u001b[39mwhere(preds\u001b[38;5;241m>\u001b[39m\u001b[38;5;241m0.85\u001b[39m)[\u001b[38;5;241m0\u001b[39m]\n\u001b[1;32m----> 9\u001b[0m \u001b[38;5;28;01mfor\u001b[39;00m possible_class_index \u001b[38;5;129;01min\u001b[39;00m possible_class_indexs:\n\u001b[0;32m     10\u001b[0m    \u001b[38;5;28mprint\u001b[39m(to_predict_class[possible_class_index])\n",
      "\u001b[1;31mNameError\u001b[0m: name 'possible_class_indexs' is not defined"
     ]
    }
   ],
   "source": [
    "import numpy as np\n",
    "preds = np.array([0.2,0.5,0.92,0.9,0.1])\n",
    "predicted_class_index= np.argmax(preds)\n",
    "predicted_class_index\n",
    "\n",
    "to_predict_class= [\"apple\", \"banana\", \"ball\", \"mango\", \"orange\"]\n",
    "possible_class_index = np.where(preds>0.85)[0]\n",
    "\n",
    "for possible_class_index in possible_class_indexs:\n",
    "   print(to_predict_class[possible_class_index])"
   ]
  },
  {
   "cell_type": "code",
   "execution_count": 51,
   "id": "6a93d1c5-b204-42cc-b7db-5f5337422702",
   "metadata": {},
   "outputs": [
    {
     "name": "stdout",
     "output_type": "stream",
     "text": [
      "2\n",
      "3\n",
      "[3 0 4 5 6 1 2 7]\n",
      "[7 2 1 6 5 4 0 3]\n",
      "(array([1, 2, 6, 7], dtype=int64),)\n"
     ]
    }
   ],
   "source": [
    "a= np.array([1,8,9,-3,2,4,7,9])\n",
    "print(np.argmax(a))\n",
    "print(np.argmin(a))\n",
    "print(np.argsort(a))\n",
    "print(np.argsort(a)[::-1])\n",
    "print(np.where(a>5))\n",
    "#print(np.where(a>5))[0]"
   ]
  },
  {
   "cell_type": "raw",
   "id": "d0e77e4e-a00a-4b53-8bcd-3211174fbfd2",
   "metadata": {},
   "source": []
  },
  {
   "cell_type": "code",
   "execution_count": 53,
   "id": "3fea2a1f-f9b5-4e67-9773-32f4e6d18680",
   "metadata": {},
   "outputs": [
    {
     "name": "stdout",
     "output_type": "stream",
     "text": [
      "6\n",
      "1\n",
      "21\n"
     ]
    }
   ],
   "source": [
    "x= np.array([[1,2],[3,4],[5,6]])\n",
    "print(np.max(x))\n",
    "print(np.min(x))\n",
    "print(np.sum(x))\n"
   ]
  },
  {
   "cell_type": "code",
   "execution_count": 55,
   "id": "6770ba59-67bb-4f1e-a3ac-682b543e9d56",
   "metadata": {},
   "outputs": [
    {
     "data": {
      "text/plain": [
       "array([1, 2])"
      ]
     },
     "execution_count": 55,
     "metadata": {},
     "output_type": "execute_result"
    }
   ],
   "source": [
    "data= np.array([1,2])\n",
    "data.T"
   ]
  },
  {
   "cell_type": "code",
   "execution_count": 57,
   "id": "8d0b5da6-a050-4416-a680-b72d36f62341",
   "metadata": {},
   "outputs": [
    {
     "name": "stdout",
     "output_type": "stream",
     "text": [
      "[[1 2]\n",
      " [3 4]\n",
      " [5 6]]\n",
      "transpose\n",
      " [[1 3 5]\n",
      " [2 4 6]]\n"
     ]
    }
   ],
   "source": [
    "x=np.array([[1,2],[3,4],[5,6]])\n",
    "print(x)\n",
    "print(\"transpose\\n\",x.T)"
   ]
  },
  {
   "cell_type": "code",
   "execution_count": 2,
   "id": "cea8e612-562c-45c9-8efe-c197b910662d",
   "metadata": {},
   "outputs": [
    {
     "ename": "TypeError",
     "evalue": "'tuple' object is not callable",
     "output_type": "error",
     "traceback": [
      "\u001b[1;31m---------------------------------------------------------------------------\u001b[0m",
      "\u001b[1;31mTypeError\u001b[0m                                 Traceback (most recent call last)",
      "Cell \u001b[1;32mIn[2], line 3\u001b[0m\n\u001b[0;32m      1\u001b[0m \u001b[38;5;28;01mimport\u001b[39;00m \u001b[38;5;21;01mnumpy\u001b[39;00m \u001b[38;5;28;01mas\u001b[39;00m \u001b[38;5;21;01mnp\u001b[39;00m\n\u001b[0;32m      2\u001b[0m data \u001b[38;5;241m=\u001b[39m np\u001b[38;5;241m.\u001b[39marray([\u001b[38;5;241m1\u001b[39m,\u001b[38;5;241m2\u001b[39m,\u001b[38;5;241m3\u001b[39m,\u001b[38;5;241m4\u001b[39m,\u001b[38;5;241m5\u001b[39m,\u001b[38;5;241m6\u001b[39m,\u001b[38;5;241m7\u001b[39m,\u001b[38;5;241m8\u001b[39m])\n\u001b[1;32m----> 3\u001b[0m data\u001b[38;5;241m.\u001b[39mshape(\u001b[38;5;241m2\u001b[39m,\u001b[38;5;241m4\u001b[39m)\n",
      "\u001b[1;31mTypeError\u001b[0m: 'tuple' object is not callable"
     ]
    }
   ],
   "source": [
    "import numpy as np\n",
    "data = np.array([1,2,3,4,5,6,7,8])\n",
    "data.shape(2,4)\n"
   ]
  },
  {
   "cell_type": "code",
   "execution_count": 12,
   "id": "47c59040-5ae1-488e-bc13-7b3bc64bd208",
   "metadata": {},
   "outputs": [
    {
     "ename": "ValueError",
     "evalue": "cannot reshape array of size 8 into shape (4,4)",
     "output_type": "error",
     "traceback": [
      "\u001b[1;31m---------------------------------------------------------------------------\u001b[0m",
      "\u001b[1;31mValueError\u001b[0m                                Traceback (most recent call last)",
      "Cell \u001b[1;32mIn[12], line 2\u001b[0m\n\u001b[0;32m      1\u001b[0m data \u001b[38;5;241m=\u001b[39m np\u001b[38;5;241m.\u001b[39marray([\u001b[38;5;241m1\u001b[39m,\u001b[38;5;241m2\u001b[39m,\u001b[38;5;241m3\u001b[39m,\u001b[38;5;241m4\u001b[39m,\u001b[38;5;241m5\u001b[39m,\u001b[38;5;241m6\u001b[39m,\u001b[38;5;241m7\u001b[39m,\u001b[38;5;241m8\u001b[39m])\n\u001b[1;32m----> 2\u001b[0m data\u001b[38;5;241m.\u001b[39mreshape(\u001b[38;5;241m4\u001b[39m,\u001b[38;5;241m4\u001b[39m)\n",
      "\u001b[1;31mValueError\u001b[0m: cannot reshape array of size 8 into shape (4,4)"
     ]
    }
   ],
   "source": [
    "data = np.array([1,2,3,4,5,6,7,8])\n",
    "data.reshape(4,4)"
   ]
  },
  {
   "cell_type": "code",
   "execution_count": 8,
   "id": "d616bf2f-5255-463f-a91e-c4da797ab902",
   "metadata": {},
   "outputs": [
    {
     "data": {
      "text/plain": [
       "array([[1, 2, 3, 4],\n",
       "       [5, 6, 7, 8]])"
      ]
     },
     "execution_count": 8,
     "metadata": {},
     "output_type": "execute_result"
    }
   ],
   "source": [
    "data = np.array([1,2,3,4,5,6,7,8])\n",
    "data.reshape(2,4)"
   ]
  },
  {
   "cell_type": "code",
   "execution_count": 14,
   "id": "0142d2ac-67e0-471b-9786-ca51b61aa05a",
   "metadata": {},
   "outputs": [
    {
     "name": "stdout",
     "output_type": "stream",
     "text": [
      "[[1]\n",
      " [2]\n",
      " [3]]\n"
     ]
    },
    {
     "data": {
      "text/plain": [
       "(3, 1)"
      ]
     },
     "execution_count": 14,
     "metadata": {},
     "output_type": "execute_result"
    }
   ],
   "source": [
    "w=np.array([[1],[2],[3]])\n",
    "print(w)\n",
    "w.shape"
   ]
  },
  {
   "cell_type": "code",
   "execution_count": 32,
   "id": "717fd376-53d0-4a23-8502-e751bf88911a",
   "metadata": {},
   "outputs": [
    {
     "name": "stdout",
     "output_type": "stream",
     "text": [
      "[1 2 3]\n"
     ]
    },
    {
     "data": {
      "text/plain": [
       "(3,)"
      ]
     },
     "execution_count": 32,
     "metadata": {},
     "output_type": "execute_result"
    }
   ],
   "source": [
    "y= w.reshape(-1,)\n",
    "print(y)\n",
    "y.shape"
   ]
  },
  {
   "cell_type": "code",
   "execution_count": 34,
   "id": "dddea6ee-b3bd-40a0-ba65-e6a86a85baf0",
   "metadata": {},
   "outputs": [
    {
     "name": "stdout",
     "output_type": "stream",
     "text": [
      "[1 2 3]\n"
     ]
    },
    {
     "data": {
      "text/plain": [
       "(3,)"
      ]
     },
     "execution_count": 34,
     "metadata": {},
     "output_type": "execute_result"
    }
   ],
   "source": [
    "w= np.array([[1],[2],[3]])\n",
    "z=w.squeeze()\n",
    "print(z)\n",
    "z.shape"
   ]
  },
  {
   "cell_type": "code",
   "execution_count": 38,
   "id": "dbea74a8-d286-4061-8bde-56b1879588e1",
   "metadata": {},
   "outputs": [
    {
     "name": "stdout",
     "output_type": "stream",
     "text": [
      "(1, 3)\n",
      "(3,)\n",
      "[1 2 3]\n"
     ]
    }
   ],
   "source": [
    "arr=np.array([[1,2,3]])\n",
    "print(arr.shape)\n",
    "\n",
    "squeezed_arr= np.squeeze(arr)\n",
    "print(squeezed_arr.shape)\n",
    "print(squeezed_arr)"
   ]
  },
  {
   "cell_type": "code",
   "execution_count": 42,
   "id": "c13436a4-ae54-40cb-81a6-7b6d6656a6d7",
   "metadata": {},
   "outputs": [
    {
     "name": "stdout",
     "output_type": "stream",
     "text": [
      "(1, 2, 1)\n",
      "(2,)\n",
      "[1 2]\n"
     ]
    }
   ],
   "source": [
    "arr= np.array([[[1],[2]]])\n",
    "print(arr.shape)\n",
    "squeezed_arr= np.squeeze(arr)\n",
    "print(squeezed_arr.shape)\n",
    "print(squeezed_arr)"
   ]
  },
  {
   "cell_type": "code",
   "execution_count": 52,
   "id": "337d394f-9998-49ed-94b6-e49fe2ece5f1",
   "metadata": {},
   "outputs": [
    {
     "name": "stdout",
     "output_type": "stream",
     "text": [
      "1\n",
      "3\n"
     ]
    }
   ],
   "source": [
    "y=np.array([1,2])\n",
    "print(y.ndim)\n",
    "y= y.reshape((-1,1,1)) \n",
    "print(y.ndim)\n"
   ]
  },
  {
   "cell_type": "code",
   "execution_count": null,
   "id": "19b8f40a-7d73-489b-8c8e-742a7844647e",
   "metadata": {},
   "outputs": [],
   "source": []
  },
  {
   "cell_type": "code",
   "execution_count": null,
   "id": "9c75217f-fcd1-4df1-bed6-d3584b7648d2",
   "metadata": {},
   "outputs": [],
   "source": []
  }
 ],
 "metadata": {
  "kernelspec": {
   "display_name": "Python [conda env:base] *",
   "language": "python",
   "name": "conda-base-py"
  },
  "language_info": {
   "codemirror_mode": {
    "name": "ipython",
    "version": 3
   },
   "file_extension": ".py",
   "mimetype": "text/x-python",
   "name": "python",
   "nbconvert_exporter": "python",
   "pygments_lexer": "ipython3",
   "version": "3.12.7"
  }
 },
 "nbformat": 4,
 "nbformat_minor": 5
}
