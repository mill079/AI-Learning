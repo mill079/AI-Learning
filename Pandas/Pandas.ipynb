{
 "cells": [
  {
   "cell_type": "code",
   "execution_count": 1,
   "id": "c9795594-529d-473c-bd55-a97017e41317",
   "metadata": {},
   "outputs": [
    {
     "name": "stdout",
     "output_type": "stream",
     "text": [
      "Requirement already satisfied: pandas in c:\\users\\dell\\anaconda3\\lib\\site-packages (2.2.2)\n",
      "Requirement already satisfied: numpy>=1.26.0 in c:\\users\\dell\\anaconda3\\lib\\site-packages (from pandas) (1.26.4)\n",
      "Requirement already satisfied: python-dateutil>=2.8.2 in c:\\users\\dell\\anaconda3\\lib\\site-packages (from pandas) (2.9.0.post0)\n",
      "Requirement already satisfied: pytz>=2020.1 in c:\\users\\dell\\anaconda3\\lib\\site-packages (from pandas) (2024.1)\n",
      "Requirement already satisfied: tzdata>=2022.7 in c:\\users\\dell\\anaconda3\\lib\\site-packages (from pandas) (2023.3)\n",
      "Requirement already satisfied: six>=1.5 in c:\\users\\dell\\anaconda3\\lib\\site-packages (from python-dateutil>=2.8.2->pandas) (1.16.0)\n",
      "Note: you may need to restart the kernel to use updated packages.\n"
     ]
    }
   ],
   "source": [
    "pip install pandas"
   ]
  },
  {
   "cell_type": "code",
   "execution_count": 7,
   "id": "000657ca-acd4-4046-a8f0-bf46f8c0c8be",
   "metadata": {},
   "outputs": [
    {
     "data": {
      "text/plain": [
       "'2.2.2'"
      ]
     },
     "execution_count": 7,
     "metadata": {},
     "output_type": "execute_result"
    }
   ],
   "source": [
    "import pandas as pd \n",
    "pd.__version__\n"
   ]
  },
  {
   "cell_type": "code",
   "execution_count": 13,
   "id": "3b94edff-f170-4821-af5b-cd479cc8feaa",
   "metadata": {},
   "outputs": [
    {
     "name": "stdout",
     "output_type": "stream",
     "text": [
      "0    10\n",
      "1    20\n",
      "2    30\n",
      "3    40\n",
      "4    50\n",
      "dtype: int64\n"
     ]
    }
   ],
   "source": [
    "import pandas as pd\n",
    "data= [10,20,30,40,50]\n",
    "s= pd.Series(data)\n",
    "print(s)"
   ]
  },
  {
   "cell_type": "code",
   "execution_count": 17,
   "id": "0c985bc6-51ac-44ec-b140-f5461254d685",
   "metadata": {},
   "outputs": [
    {
     "data": {
      "text/plain": [
       "array([10, 20, 30, 40, 50], dtype=int64)"
      ]
     },
     "execution_count": 17,
     "metadata": {},
     "output_type": "execute_result"
    }
   ],
   "source": [
    "s.values"
   ]
  },
  {
   "cell_type": "code",
   "execution_count": 19,
   "id": "eb531dfc-acd1-4e72-a93c-167cd9cf3d7c",
   "metadata": {},
   "outputs": [
    {
     "data": {
      "text/plain": [
       "RangeIndex(start=0, stop=5, step=1)"
      ]
     },
     "execution_count": 19,
     "metadata": {},
     "output_type": "execute_result"
    }
   ],
   "source": [
    "s.index"
   ]
  },
  {
   "cell_type": "code",
   "execution_count": 21,
   "id": "7dda34a4-f212-478b-8a08-e806df733597",
   "metadata": {},
   "outputs": [
    {
     "data": {
      "text/plain": [
       "a       1\n",
       "b    John\n",
       "c     3.5\n",
       "d     Hey\n",
       "dtype: object"
      ]
     },
     "execution_count": 21,
     "metadata": {},
     "output_type": "execute_result"
    }
   ],
   "source": [
    "labelled_data= pd.Series([1,\"John\",3.5,\"Hey\"], index= [\"a\",\"b\",\"c\",\"d\"])\n",
    "labelled_data"
   ]
  },
  {
   "cell_type": "code",
   "execution_count": 23,
   "id": "ba81f986-81db-4af0-ad80-09e68a4ddd40",
   "metadata": {},
   "outputs": [
    {
     "data": {
      "text/plain": [
       "'Hey'"
      ]
     },
     "execution_count": 23,
     "metadata": {},
     "output_type": "execute_result"
    }
   ],
   "source": [
    "labelled_data[\"d\"]"
   ]
  },
  {
   "cell_type": "code",
   "execution_count": 25,
   "id": "0b9e1d3c-1383-4e38-b7a7-a8e37d97ce04",
   "metadata": {},
   "outputs": [
    {
     "data": {
      "text/plain": [
       "Index(['a', 'b', 'c', 'd'], dtype='object')"
      ]
     },
     "execution_count": 25,
     "metadata": {},
     "output_type": "execute_result"
    }
   ],
   "source": [
    "labelled_data.index"
   ]
  },
  {
   "cell_type": "code",
   "execution_count": 62,
   "id": "91cf3f6b-150c-455a-ac6a-faaebe616e08",
   "metadata": {},
   "outputs": [
    {
     "data": {
      "text/plain": [
       "jane    90.0\n",
       "bill    80.0\n",
       "elon    85.0\n",
       "tom     95.0\n",
       "Gp       NaN\n",
       "dtype: float64"
      ]
     },
     "execution_count": 62,
     "metadata": {},
     "output_type": "execute_result"
    }
   ],
   "source": [
    "score={\"jane\":90, \"bill\":80,\"elon\":85,\"tom\":95,\"Gp\": None}\n",
    "name= pd.Series(score)\n",
    "name"
   ]
  },
  {
   "cell_type": "code",
   "execution_count": 40,
   "id": "55ca2266-3d31-4165-9d00-53c571169fe3",
   "metadata": {},
   "outputs": [
    {
     "data": {
      "text/plain": [
       "jane    90.0\n",
       "elon    85.0\n",
       "tom     95.0\n",
       "dtype: float64"
      ]
     },
     "execution_count": 40,
     "metadata": {},
     "output_type": "execute_result"
    }
   ],
   "source": [
    "name[name>=85]"
   ]
  },
  {
   "cell_type": "code",
   "execution_count": 46,
   "id": "2273f6bc-a8c1-4e39-bfe8-e1565d567eb9",
   "metadata": {},
   "outputs": [
    {
     "name": "stderr",
     "output_type": "stream",
     "text": [
      "C:\\Users\\DELL\\AppData\\Local\\Temp\\ipykernel_12900\\3107050317.py:2: FutureWarning: Setting an item of incompatible dtype is deprecated and will raise an error in a future version of pandas. Value 'Fail' has dtype incompatible with float64, please explicitly cast to a compatible dtype first.\n",
      "  name[name <=80]= \"Fail\"\n"
     ]
    },
    {
     "data": {
      "text/plain": [
       "jane    90.0\n",
       "bill    Fail\n",
       "elon    85.0\n",
       "tom     95.0\n",
       "Gp       NaN\n",
       "Tom     Fail\n",
       "dtype: object"
      ]
     },
     "execution_count": 46,
     "metadata": {},
     "output_type": "execute_result"
    }
   ],
   "source": [
    "name[\"Tom\"]=60\n",
    "name[name <=80]= 83\n",
    "name"
   ]
  },
  {
   "cell_type": "code",
   "execution_count": 56,
   "id": "6fa56dc0-e365-43fa-a2b4-9311324b0413",
   "metadata": {},
   "outputs": [
    {
     "data": {
      "text/plain": [
       "True"
      ]
     },
     "execution_count": 56,
     "metadata": {},
     "output_type": "execute_result"
    }
   ],
   "source": [
    "\"gagan\" in name"
   ]
  },
  {
   "cell_type": "code",
   "execution_count": 52,
   "id": "5bd832f2-7401-468b-9f09-0ff533822dac",
   "metadata": {},
   "outputs": [],
   "source": [
    "name[\"gagan\"] = 20"
   ]
  },
  {
   "cell_type": "code",
   "execution_count": 54,
   "id": "2df579b3-5bfc-4000-ad05-a1ca35528420",
   "metadata": {},
   "outputs": [
    {
     "name": "stdout",
     "output_type": "stream",
     "text": [
      "gagan is good boy\n"
     ]
    }
   ],
   "source": [
    "if \"gagan\" in name: \n",
    "    print(\"gagan is good boy\")\n",
    "else:\n",
    "    print(\"gagan doesnot exist in this world\")"
   ]
  },
  {
   "cell_type": "code",
   "execution_count": 64,
   "id": "66e1e529-6e46-4dc7-9c59-07bd32fa4e54",
   "metadata": {},
   "outputs": [
    {
     "data": {
      "text/plain": [
       "jane    9.0\n",
       "bill    8.0\n",
       "elon    8.5\n",
       "tom     9.5\n",
       "Gp      NaN\n",
       "dtype: float64"
      ]
     },
     "execution_count": 64,
     "metadata": {},
     "output_type": "execute_result"
    }
   ],
   "source": [
    "name / 10"
   ]
  },
  {
   "cell_type": "code",
   "execution_count": 66,
   "id": "2c842f5c-6953-4cc1-955d-938003ceacae",
   "metadata": {},
   "outputs": [
    {
     "data": {
      "text/plain": [
       "jane    8100.0\n",
       "bill    6400.0\n",
       "elon    7225.0\n",
       "tom     9025.0\n",
       "Gp         NaN\n",
       "dtype: float64"
      ]
     },
     "execution_count": 66,
     "metadata": {},
     "output_type": "execute_result"
    }
   ],
   "source": [
    "name**2"
   ]
  },
  {
   "cell_type": "code",
   "execution_count": 68,
   "id": "61ccfb5b-6af1-4971-9b5f-0d94de1d9180",
   "metadata": {},
   "outputs": [],
   "source": [
    "import numpy as np "
   ]
  },
  {
   "cell_type": "code",
   "execution_count": 70,
   "id": "57983a11-5956-4e43-92ba-8df3dfb3efb1",
   "metadata": {},
   "outputs": [
    {
     "data": {
      "text/plain": [
       "3.0"
      ]
     },
     "execution_count": 70,
     "metadata": {},
     "output_type": "execute_result"
    }
   ],
   "source": [
    "data= pd.Series([1,2,np.nan,4,5])\n",
    "data.mean(skipna=True)"
   ]
  },
  {
   "cell_type": "code",
   "execution_count": 72,
   "id": "bc932c88-dacc-403f-984e-59f845af9fcc",
   "metadata": {},
   "outputs": [
    {
     "data": {
      "text/plain": [
       "jane    False\n",
       "bill    False\n",
       "elon    False\n",
       "tom     False\n",
       "Gp       True\n",
       "dtype: bool"
      ]
     },
     "execution_count": 72,
     "metadata": {},
     "output_type": "execute_result"
    }
   ],
   "source": [
    "name.isnull()"
   ]
  },
  {
   "cell_type": "code",
   "execution_count": 76,
   "id": "1ca78f58-995d-45a4-93ca-e4fd961e1d62",
   "metadata": {},
   "outputs": [
    {
     "data": {
      "text/plain": [
       "jane    False\n",
       "bill    False\n",
       "elon    False\n",
       "tom     False\n",
       "Gp       True\n",
       "dtype: bool"
      ]
     },
     "execution_count": 76,
     "metadata": {},
     "output_type": "execute_result"
    }
   ],
   "source": [
    "name.isna()"
   ]
  },
  {
   "cell_type": "code",
   "execution_count": 80,
   "id": "bfa1a31e-f7ab-4205-ab1a-cad65c9a3c9d",
   "metadata": {},
   "outputs": [
    {
     "data": {
      "text/plain": [
       "jane    90.0\n",
       "bill    80.0\n",
       "elon    85.0\n",
       "tom     95.0\n",
       "dtype: float64"
      ]
     },
     "execution_count": 80,
     "metadata": {},
     "output_type": "execute_result"
    }
   ],
   "source": [
    "name.dropna() #remove nan"
   ]
  },
  {
   "cell_type": "code",
   "execution_count": 84,
   "id": "843bab4c-b85c-4ee0-abc2-362f248118e8",
   "metadata": {},
   "outputs": [
    {
     "data": {
      "text/plain": [
       "jane    90.0\n",
       "bill    80.0\n",
       "elon    85.0\n",
       "tom     95.0\n",
       "Gp      34.0\n",
       "dtype: float64"
      ]
     },
     "execution_count": 84,
     "metadata": {},
     "output_type": "execute_result"
    }
   ],
   "source": [
    "name.fillna(34) #add value to nan"
   ]
  },
  {
   "cell_type": "code",
   "execution_count": 100,
   "id": "68cc82f4-840d-4358-b18a-2dc044fa5360",
   "metadata": {},
   "outputs": [],
   "source": [
    "data={\n",
    "    \"name\":[\"Bill\",\"Tom\",\"Tim\",\"John\",\"Alex\"],\n",
    "    \"score\":[90,80,85,75,95],\n",
    "    \"sport\":[\"Wrestling\",\"Football\",\"Skiping\",\"Swimming\",\"Cricket\"],\n",
    "    \"sex\":[\"M\",\"M\",\"M\",\"F\",\"M\"]\n",
    "}\n",
    "df=pd.DataFrame(data)"
   ]
  },
  {
   "cell_type": "code",
   "execution_count": 5,
   "id": "8488efe1-5537-4ab6-89bd-837d1516b064",
   "metadata": {},
   "outputs": [
    {
     "ename": "NameError",
     "evalue": "name 'df' is not defined",
     "output_type": "error",
     "traceback": [
      "\u001b[1;31m---------------------------------------------------------------------------\u001b[0m",
      "\u001b[1;31mNameError\u001b[0m                                 Traceback (most recent call last)",
      "Cell \u001b[1;32mIn[5], line 1\u001b[0m\n\u001b[1;32m----> 1\u001b[0m df\n",
      "\u001b[1;31mNameError\u001b[0m: name 'df' is not defined"
     ]
    }
   ],
   "source": [
    "df"
   ]
  },
  {
   "cell_type": "code",
   "execution_count": 11,
   "id": "b5772a55-39e2-43ea-8980-807d91155f7e",
   "metadata": {},
   "outputs": [
    {
     "ename": "NameError",
     "evalue": "name 'df' is not defined",
     "output_type": "error",
     "traceback": [
      "\u001b[1;31m---------------------------------------------------------------------------\u001b[0m",
      "\u001b[1;31mNameError\u001b[0m                                 Traceback (most recent call last)",
      "Cell \u001b[1;32mIn[11], line 2\u001b[0m\n\u001b[0;32m      1\u001b[0m \u001b[38;5;28;01mimport\u001b[39;00m \u001b[38;5;21;01mpandas\u001b[39;00m \u001b[38;5;28;01mas\u001b[39;00m \u001b[38;5;21;01mpd\u001b[39;00m\n\u001b[1;32m----> 2\u001b[0m df\u001b[38;5;241m.\u001b[39mhead()\n",
      "\u001b[1;31mNameError\u001b[0m: name 'df' is not defined"
     ]
    }
   ],
   "source": [
    "df.head()"
   ]
  },
  {
   "cell_type": "code",
   "execution_count": null,
   "id": "078e1f37-2e9b-48bc-82b1-26cbce1b240b",
   "metadata": {},
   "outputs": [],
   "source": []
  }
 ],
 "metadata": {
  "kernelspec": {
   "display_name": "Python [conda env:base] *",
   "language": "python",
   "name": "conda-base-py"
  },
  "language_info": {
   "codemirror_mode": {
    "name": "ipython",
    "version": 3
   },
   "file_extension": ".py",
   "mimetype": "text/x-python",
   "name": "python",
   "nbconvert_exporter": "python",
   "pygments_lexer": "ipython3",
   "version": "3.12.7"
  }
 },
 "nbformat": 4,
 "nbformat_minor": 5
}
