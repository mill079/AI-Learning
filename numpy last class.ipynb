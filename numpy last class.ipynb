{
 "cells": [
  {
   "cell_type": "raw",
   "id": "fc69849b-d5ab-4e4d-91d8-d58cc5d1ea84",
   "metadata": {},
   "source": []
  },
  {
   "cell_type": "code",
   "execution_count": 3,
   "id": "13717725-abc8-4840-93c8-7684511dcab6",
   "metadata": {},
   "outputs": [
    {
     "data": {
      "text/plain": [
       "array([[1, 2, 3, 4],\n",
       "       [5, 6, 7, 8]])"
      ]
     },
     "execution_count": 3,
     "metadata": {},
     "output_type": "execute_result"
    }
   ],
   "source": [
    "import numpy as np\n",
    "data = np.array([1,2,3,4,5,6,7,8])\n",
    "data.reshape(2,4)\n"
   ]
  },
  {
   "cell_type": "code",
   "execution_count": 5,
   "id": "305157c4-64bc-4232-973a-59b13442ad63",
   "metadata": {},
   "outputs": [
    {
     "name": "stdout",
     "output_type": "stream",
     "text": [
      "[1 2 3]\n",
      "[[4]\n",
      " [5]\n",
      " [6]]\n",
      "[[5 6 7]\n",
      " [6 7 8]\n",
      " [7 8 9]]\n"
     ]
    }
   ],
   "source": [
    "#broadcasting\n",
    "a=np.array([1,2,3])\n",
    "print(a)\n",
    "\n",
    "b=np.array([[4],[5],[6]])\n",
    "print(b)\n",
    "\n",
    "c= a+b\n",
    "print(c)"
   ]
  },
  {
   "cell_type": "code",
   "execution_count": 19,
   "id": "bbbd635f-ff59-41eb-9cfc-e2b65521e0a7",
   "metadata": {},
   "outputs": [
    {
     "name": "stdout",
     "output_type": "stream",
     "text": [
      "[[[1 2 3 4 5]\n",
      "  [2 6 7 8 8]\n",
      "  [4 6 7 7 6]\n",
      "  [3 7 8 5 7]]\n",
      "\n",
      " [[1 2 3 4 5]\n",
      "  [2 6 7 8 8]\n",
      "  [4 6 7 7 6]\n",
      "  [3 7 8 5 7]]]\n",
      "[[2 3]\n",
      " [4 7]]\n"
     ]
    }
   ],
   "source": [
    "a= np.array([[[1,2,3,4,5],[2,6,7,8,8],[4,6,7,7,6],[3,7,8,5, 7]], [[1,2,3,4,5],[2,6,7,8,8],[4,6,7,7,6],[3,7,8,5, 7]]])\n",
    "print(a)\n",
    "\n",
    "b= np.array([[2,3],[4,7]])\n",
    "print(b)\n",
    "\n",
    "#c= a+b\n",
    "\n"
   ]
  },
  {
   "cell_type": "code",
   "execution_count": 35,
   "id": "eb454fb8-69b0-463a-b982-c926cb1735a3",
   "metadata": {},
   "outputs": [
    {
     "name": "stdout",
     "output_type": "stream",
     "text": [
      "Determinant of A: 431.9999999999998\n"
     ]
    }
   ],
   "source": [
    "A= np.array([[1,2,3,8],[2,6,7,7],[4,6,7,5],[4,0,7,5]])\n",
    "det_A = np.linalg.det(A)\n",
    "print(\"Determinant of A:\", det_A)"
   ]
  },
  {
   "cell_type": "code",
   "execution_count": 45,
   "id": "ba7419be-7349-408a-95ec-7266727452a3",
   "metadata": {},
   "outputs": [
    {
     "name": "stdout",
     "output_type": "stream",
     "text": [
      "[[ 3  1 -2]\n",
      " [ 2 -1  1]\n",
      " [ 1  2  3]]\n",
      "[2.6 3.2 1. ]\n"
     ]
    }
   ],
   "source": [
    "#linear equation solve\n",
    "A= np.array([[3,1,-2],[2,-1,1],[1,2,3]])\n",
    "print(A)\n",
    "b= np.array([9,3,12])\n",
    "\n",
    "solution = np.linalg.solve(A,b)\n",
    "print(solution)"
   ]
  },
  {
   "cell_type": "code",
   "execution_count": 51,
   "id": "9294b9b5-0cb1-4340-a21b-933ffb424b23",
   "metadata": {},
   "outputs": [
    {
     "name": "stdout",
     "output_type": "stream",
     "text": [
      "[0.33623665 0.55334393 0.37307683 0.37895719 0.61392249]\n",
      "[[0.05274971 0.05777852 0.28294472]\n",
      " [0.09103475 0.65238474 0.14246475]\n",
      " [0.01764593 0.1671053  0.84958084]]\n"
     ]
    }
   ],
   "source": [
    "#random number\n",
    "random_number = np.random.rand(5)\n",
    "print(random_number)\n",
    "\n",
    "random_array_2d= np.random.rand(3,3)\n",
    "print(random_array_2d)\n"
   ]
  },
  {
   "cell_type": "code",
   "execution_count": 57,
   "id": "a7af08b6-0cb7-4ab5-9687-02c05f32f43b",
   "metadata": {},
   "outputs": [
    {
     "name": "stdout",
     "output_type": "stream",
     "text": [
      "[5 2 0 5 7]\n",
      "[[1 6]\n",
      " [0 6]\n",
      " [9 2]]\n"
     ]
    }
   ],
   "source": [
    "random_int_array= np.random.randint(0,10, size=5)\n",
    "print(random_int_array)\n",
    "\n",
    "random_int_array2d= np.random.randint(0,10, size=(3,2))\n",
    "print(random_int_array2d)"
   ]
  },
  {
   "cell_type": "code",
   "execution_count": 73,
   "id": "44a8a32d-b4a6-40bf-b306-36d5884c6e86",
   "metadata": {},
   "outputs": [
    {
     "name": "stdout",
     "output_type": "stream",
     "text": [
      "[2 1 4]\n"
     ]
    }
   ],
   "source": [
    "random_sample_with_replacement = np.random.choice([1,2,3,4,5], size=3, replace=False)\n",
    "print(random_sample_with_replacement)"
   ]
  },
  {
   "cell_type": "code",
   "execution_count": 67,
   "id": "e4dbf5b9-5b7e-42e9-a34a-65fd78c53d6b",
   "metadata": {},
   "outputs": [],
   "source": [
    "np.random.seed(42)"
   ]
  },
  {
   "cell_type": "code",
   "execution_count": null,
   "id": "bda0697c-d371-4ee2-aadc-cf9fe6b6d51b",
   "metadata": {},
   "outputs": [],
   "source": []
  }
 ],
 "metadata": {
  "kernelspec": {
   "display_name": "Python [conda env:base] *",
   "language": "python",
   "name": "conda-base-py"
  },
  "language_info": {
   "codemirror_mode": {
    "name": "ipython",
    "version": 3
   },
   "file_extension": ".py",
   "mimetype": "text/x-python",
   "name": "python",
   "nbconvert_exporter": "python",
   "pygments_lexer": "ipython3",
   "version": "3.12.7"
  }
 },
 "nbformat": 4,
 "nbformat_minor": 5
}
